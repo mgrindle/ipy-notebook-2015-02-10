{
 "metadata": {
  "name": "",
  "signature": "sha256:182687ab0ae6ed7ff1de9e2806e110c8cd42d4c2f5131a2c744ef354a3fef9da"
 },
 "nbformat": 3,
 "nbformat_minor": 0,
 "worksheets": [
  {
   "cells": [
    {
     "cell_type": "heading",
     "level": 1,
     "metadata": {},
     "source": [
      "Basic Numerical Integration: the Trapezoid Rule"
     ]
    },
    {
     "cell_type": "markdown",
     "metadata": {},
     "source": [
      "A simple illustration of the trapezoid rule for definite integration:\n",
      "\n",
      "\u222bbaf(x)dx\u224812\u2211k=1N(xk\u2212xk\u22121)(f(xk)+f(xk\u22121)).\n",
      "\n",
      "First, we define a simple function and sample it between 0 and 10 at 200 points"
     ]
    },
    {
     "cell_type": "code",
     "collapsed": false,
     "input": [
      "%matplotlib inline\n",
      "import numpy as np\n",
      "import matplotlib.pyplot as plt"
     ],
     "language": "python",
     "metadata": {},
     "outputs": []
    },
    {
     "cell_type": "code",
     "collapsed": false,
     "input": [
      "def f(x):\n",
      "    return (x-3)*(x-5)*(x-7)+85\n",
      "\n",
      "x = np.linspace(0, 10, 200)\n",
      "y = f(x)"
     ],
     "language": "python",
     "metadata": {},
     "outputs": []
    },
    {
     "cell_type": "markdown",
     "metadata": {},
     "source": [
      "Choose a region to integrate over and take only a few points in that region"
     ]
    },
    {
     "cell_type": "code",
     "collapsed": false,
     "input": [
      "a, b = 1, 9\n",
      "xint = x[np.logical_and(x>=a, x<=b)][::30]\n",
      "yint = y[np.logical_and(x>=a, x<=b)][::30]"
     ],
     "language": "python",
     "metadata": {},
     "outputs": []
    },
    {
     "cell_type": "markdown",
     "metadata": {},
     "source": [
      "Plot both the function and the area below it in the trapezoid approximation"
     ]
    },
    {
     "cell_type": "code",
     "collapsed": false,
     "input": [
      "plt.plot(x, y, lw=2)\n",
      "plt.axis([0, 10, 0, 140])\n",
      "plt.fill_between(xint, 0, yint, facecolor='gray', alpha=0.4)\n",
      "plt.text(0.5 * (a + b), 30,r\"$\\int_a^b f(x)dx$\", horizontalalignment='center', fontsize=20);"
     ],
     "language": "python",
     "metadata": {},
     "outputs": []
    },
    {
     "cell_type": "markdown",
     "metadata": {},
     "source": [
      "Compute the integral both at high accuracy and with the trapezoid approximation"
     ]
    },
    {
     "cell_type": "code",
     "collapsed": false,
     "input": [
      "from __future__ import print_function\n",
      "from scipy.integrate import quad, trapz\n",
      "integral, error = quad(f, 1, 9)\n",
      "print(\"The integral is:\", integral, \"+/-\", error)\n",
      "print(\"The trapezoid approximation with\", len(xint), \"points is:\", trapz(yint, xint))"
     ],
     "language": "python",
     "metadata": {},
     "outputs": []
    }
   ],
   "metadata": {}
  }
 ]
}