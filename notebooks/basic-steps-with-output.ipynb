{
 "metadata": {
  "name": "",
  "signature": "sha256:7ca072ebc68269a852cf97d1fc386af74d2bd497ac2e1ad4c7a1484222d13b16"
 },
 "nbformat": 3,
 "nbformat_minor": 0,
 "worksheets": [
  {
   "cells": [
    {
     "cell_type": "heading",
     "level": 1,
     "metadata": {},
     "source": [
      "Basic Steps"
     ]
    },
    {
     "cell_type": "heading",
     "level": 2,
     "metadata": {},
     "source": [
      "Get info about python modules"
     ]
    },
    {
     "cell_type": "code",
     "collapsed": false,
     "input": [
      "import os"
     ],
     "language": "python",
     "metadata": {},
     "outputs": [],
     "prompt_number": 1
    },
    {
     "cell_type": "markdown",
     "metadata": {},
     "source": [
      "General info about OS module"
     ]
    },
    {
     "cell_type": "code",
     "collapsed": false,
     "input": [
      "os?"
     ],
     "language": "python",
     "metadata": {},
     "outputs": [],
     "prompt_number": 2
    },
    {
     "cell_type": "markdown",
     "metadata": {},
     "source": [
      "Detailed info about OS module"
     ]
    },
    {
     "cell_type": "code",
     "collapsed": false,
     "input": [
      "os??"
     ],
     "language": "python",
     "metadata": {},
     "outputs": [],
     "prompt_number": 3
    },
    {
     "cell_type": "markdown",
     "metadata": {},
     "source": [
      "Run a function of a module"
     ]
    },
    {
     "cell_type": "code",
     "collapsed": true,
     "input": [
      "os.name"
     ],
     "language": "python",
     "metadata": {},
     "outputs": [
      {
       "metadata": {},
       "output_type": "pyout",
       "prompt_number": 4,
       "text": [
        "'posix'"
       ]
      }
     ],
     "prompt_number": 4
    },
    {
     "cell_type": "heading",
     "level": 2,
     "metadata": {},
     "source": [
      "IPython Kernel Information"
     ]
    },
    {
     "cell_type": "markdown",
     "metadata": {},
     "source": [
      "Details about running kernels and how to connect to them"
     ]
    },
    {
     "cell_type": "code",
     "collapsed": false,
     "input": [
      "%connect_info"
     ],
     "language": "python",
     "metadata": {},
     "outputs": [
      {
       "output_type": "stream",
       "stream": "stdout",
       "text": [
        "{\n",
        "  \"stdin_port\": 52308, \n",
        "  \"ip\": \"127.0.0.1\", \n",
        "  \"control_port\": 46848, \n",
        "  \"hb_port\": 60847, \n",
        "  \"signature_scheme\": \"hmac-sha256\", \n",
        "  \"key\": \"e9636173-2e77-44a9-b622-96557407a176\", \n",
        "  \"shell_port\": 44984, \n",
        "  \"transport\": \"tcp\", \n",
        "  \"iopub_port\": 53264\n",
        "}\n",
        "\n",
        "Paste the above JSON into a file, and connect with:\n",
        "    $> ipython <app> --existing <file>\n",
        "or, if you are local, you can connect with just:\n",
        "    $> ipython <app> --existing kernel-c9024783-a0a4-444a-a0c3-de82ee9b09f2.json \n",
        "or even just:\n",
        "    $> ipython <app> --existing \n",
        "if this is the most recent IPython session you have started.\n"
       ]
      }
     ],
     "prompt_number": 5
    },
    {
     "cell_type": "heading",
     "level": 6,
     "metadata": {},
     "source": [
      "Start an \"IPython qtconsole\" session using the already running kernel and environment"
     ]
    },
    {
     "cell_type": "markdown",
     "metadata": {},
     "source": [
      "    1. Now open a terminal session\n",
      "    2. type: ipython qtconsole --existing"
     ]
    },
    {
     "cell_type": "heading",
     "level": 2,
     "metadata": {},
     "source": [
      "Diagram of IPython Notebook Components"
     ]
    },
    {
     "cell_type": "markdown",
     "metadata": {},
     "source": [
      "Call an image file from within this notebook"
     ]
    },
    {
     "cell_type": "code",
     "collapsed": false,
     "input": [
      "%%bash\n",
      "gwenview -f /home/ty/Documents/tvpdg-presentation/images/interactive-ipython-kernel-design.png"
     ],
     "language": "python",
     "metadata": {},
     "outputs": [
      {
       "output_type": "stream",
       "stream": "stderr",
       "text": [
        "gwenview(3260)/kdeui (kdelibs): Attempt to use QAction \"edit_redo\" with KXMLGUIFactory! \n",
        "gwenview(3260)/kdeui (kdelibs): Attempt to use QAction \"edit_undo\" with KXMLGUIFactory! \n",
        "gwenview(3260) KMimeTypeRepository::parents: \"/usr/share/mime/subclasses\"  refers to unknown mimetype  \"application/vnd.ms-excel.sheet.binary.macroEnabled.12\" \n",
        "gwenview(3260) KMimeTypeRepository::parents: \"/usr/share/mime/subclasses\"  refers to unknown mimetype  \"application/vnd.ms-excel.addin.macroEnabled.12\" \n",
        "gwenview(3260) KMimeTypeRepository::parents: \"/usr/share/mime/subclasses\"  refers to unknown mimetype  \"application/vnd.ms-powerpoint.slideshow.macroEnabled.12\" \n",
        "gwenview(3260) KMimeTypeRepository::parents: \"/usr/share/mime/subclasses\"  refers to unknown mimetype  \"application/vnd.ms-excel.sheet.macroEnabled.12\" \n",
        "gwenview(3260) KMimeTypeRepository::parents: \"/usr/share/mime/subclasses\"  refers to unknown mimetype  \"application/vnd.ms-powerpoint.presentation.macroEnabled.12\" \n",
        "gwenview(3260) KMimeTypeRepository::parents: \"/usr/share/mime/subclasses\"  refers to unknown mimetype  \"application/vnd.ms-word.template.macroEnabled.12\" \n",
        "gwenview(3260) KMimeTypeRepository::parents: \"/usr/share/mime/subclasses\"  refers to unknown mimetype  \"application/vnd.ms-excel.template.macroEnabled.12\" \n",
        "gwenview(3260) KMimeTypeRepository::parents: \"/usr/share/mime/subclasses\"  refers to unknown mimetype  \"application/vnd.ms-powerpoint.template.macroEnabled.12\" \n",
        "gwenview(3260) KMimeTypeRepository::parents: \"/usr/share/mime/subclasses\"  refers to unknown mimetype  \"application/vnd.ms-word.document.macroEnabled.12\" \n",
        "gwenview(3260) KMimeTypeRepository::parents: \"/usr/share/mime/subclasses\"  refers to unknown mimetype  \"application/vnd.ms-powerpoint.slide.macroEnabled.12\" \n",
        "gwenview(3260) Gwenview::ThumbnailProvider::checkThumbnail: Thumbnail for \"file:///home/ty/Documents/tvpdg-presentation/images/libreoffice-writer.svg\" does not contain correct image size information \n",
        "gwenview(3260) Gwenview::ThumbnailProvider::checkThumbnail: Thumbnail for \"file:///home/ty/Documents/tvpdg-presentation/images/python_logo.svg\" does not contain correct image size information \n",
        "gwenview(3260) Gwenview::ThumbnailProvider::checkThumbnail: Thumbnail for \"file:///home/ty/Documents/tvpdg-presentation/images/spyder.svg\" does not contain correct image size information \n",
        "gwenview(3260) Gwenview::ThumbnailProvider::checkThumbnail: Thumbnail for \"file:///home/ty/Documents/tvpdg-presentation/images/libreoffice-writer.svg\" does not contain correct image size information \n",
        "gwenview(3260) Gwenview::ThumbnailProvider::checkThumbnail: Thumbnail for \"file:///home/ty/Documents/tvpdg-presentation/images/python_logo.svg\" does not contain correct image size information \n",
        "gwenview(3260) Gwenview::ThumbnailProvider::checkThumbnail: Thumbnail for \"file:///home/ty/Documents/tvpdg-presentation/images/spyder.svg\" does not contain correct image size information \n"
       ]
      }
     ],
     "prompt_number": 3
    },
    {
     "cell_type": "markdown",
     "metadata": {},
     "source": [
      "A list of IPython Magic Commands"
     ]
    },
    {
     "cell_type": "code",
     "collapsed": false,
     "input": [
      "%lsmagic"
     ],
     "language": "python",
     "metadata": {},
     "outputs": [
      {
       "json": [
        "{\"cell\": {\"prun\": \"ExecutionMagics\", \"file\": \"Other\", \"!\": \"OSMagics\", \"capture\": \"ExecutionMagics\", \"timeit\": \"ExecutionMagics\", \"script\": \"ScriptMagics\", \"pypy\": \"Other\", \"system\": \"OSMagics\", \"perl\": \"Other\", \"HTML\": \"Other\", \"bash\": \"Other\", \"python\": \"Other\", \"SVG\": \"Other\", \"javascript\": \"DisplayMagics\", \"writefile\": \"OSMagics\", \"ruby\": \"Other\", \"python3\": \"Other\", \"python2\": \"Other\", \"latex\": \"DisplayMagics\", \"sx\": \"OSMagics\", \"svg\": \"DisplayMagics\", \"html\": \"DisplayMagics\", \"sh\": \"Other\", \"time\": \"ExecutionMagics\", \"debug\": \"ExecutionMagics\"}, \"line\": {\"psource\": \"NamespaceMagics\", \"logstart\": \"LoggingMagics\", \"popd\": \"OSMagics\", \"loadpy\": \"CodeMagics\", \"install_ext\": \"ExtensionMagics\", \"colors\": \"BasicMagics\", \"who_ls\": \"NamespaceMagics\", \"lf\": \"Other\", \"install_profiles\": \"DeprecatedMagics\", \"ll\": \"Other\", \"pprint\": \"BasicMagics\", \"lk\": \"Other\", \"ls\": \"Other\", \"save\": \"CodeMagics\", \"tb\": \"ExecutionMagics\", \"lx\": \"Other\", \"pylab\": \"PylabMagics\", \"killbgscripts\": \"ScriptMagics\", \"quickref\": \"BasicMagics\", \"magic\": \"BasicMagics\", \"dhist\": \"OSMagics\", \"edit\": \"KernelMagics\", \"logstop\": \"LoggingMagics\", \"gui\": \"BasicMagics\", \"alias_magic\": \"BasicMagics\", \"debug\": \"ExecutionMagics\", \"page\": \"BasicMagics\", \"logstate\": \"LoggingMagics\", \"ed\": \"Other\", \"pushd\": \"OSMagics\", \"timeit\": \"ExecutionMagics\", \"rehashx\": \"OSMagics\", \"hist\": \"Other\", \"qtconsole\": \"KernelMagics\", \"rm\": \"Other\", \"dirs\": \"OSMagics\", \"run\": \"ExecutionMagics\", \"reset_selective\": \"NamespaceMagics\", \"rep\": \"Other\", \"pinfo2\": \"NamespaceMagics\", \"matplotlib\": \"PylabMagics\", \"unload_ext\": \"ExtensionMagics\", \"doctest_mode\": \"KernelMagics\", \"logoff\": \"LoggingMagics\", \"reload_ext\": \"ExtensionMagics\", \"pdb\": \"ExecutionMagics\", \"load\": \"CodeMagics\", \"lsmagic\": \"BasicMagics\", \"autosave\": \"KernelMagics\", \"cd\": \"OSMagics\", \"pastebin\": \"CodeMagics\", \"prun\": \"ExecutionMagics\", \"cp\": \"Other\", \"autocall\": \"AutoMagics\", \"bookmark\": \"OSMagics\", \"connect_info\": \"KernelMagics\", \"mkdir\": \"Other\", \"system\": \"OSMagics\", \"whos\": \"NamespaceMagics\", \"rmdir\": \"Other\", \"automagic\": \"AutoMagics\", \"store\": \"StoreMagics\", \"more\": \"KernelMagics\", \"pdef\": \"NamespaceMagics\", \"precision\": \"BasicMagics\", \"pinfo\": \"NamespaceMagics\", \"pwd\": \"OSMagics\", \"psearch\": \"NamespaceMagics\", \"reset\": \"NamespaceMagics\", \"recall\": \"HistoryMagics\", \"xdel\": \"NamespaceMagics\", \"xmode\": \"BasicMagics\", \"cat\": \"Other\", \"mv\": \"Other\", \"rerun\": \"HistoryMagics\", \"logon\": \"LoggingMagics\", \"history\": \"HistoryMagics\", \"pycat\": \"OSMagics\", \"unalias\": \"OSMagics\", \"install_default_config\": \"DeprecatedMagics\", \"env\": \"OSMagics\", \"load_ext\": \"ExtensionMagics\", \"config\": \"ConfigMagics\", \"profile\": \"BasicMagics\", \"pfile\": \"NamespaceMagics\", \"less\": \"KernelMagics\", \"who\": \"NamespaceMagics\", \"notebook\": \"BasicMagics\", \"man\": \"KernelMagics\", \"sx\": \"OSMagics\", \"macro\": \"ExecutionMagics\", \"clear\": \"KernelMagics\", \"alias\": \"OSMagics\", \"time\": \"ExecutionMagics\", \"sc\": \"OSMagics\", \"ldir\": \"Other\", \"pdoc\": \"NamespaceMagics\"}}"
       ],
       "metadata": {},
       "output_type": "pyout",
       "prompt_number": 1,
       "text": [
        "Available line magics:\n",
        "%alias  %alias_magic  %autocall  %automagic  %autosave  %bookmark  %cat  %cd  %clear  %colors  %config  %connect_info  %cp  %debug  %dhist  %dirs  %doctest_mode  %ed  %edit  %env  %gui  %hist  %history  %install_default_config  %install_ext  %install_profiles  %killbgscripts  %ldir  %less  %lf  %lk  %ll  %load  %load_ext  %loadpy  %logoff  %logon  %logstart  %logstate  %logstop  %ls  %lsmagic  %lx  %macro  %magic  %man  %matplotlib  %mkdir  %more  %mv  %notebook  %page  %pastebin  %pdb  %pdef  %pdoc  %pfile  %pinfo  %pinfo2  %popd  %pprint  %precision  %profile  %prun  %psearch  %psource  %pushd  %pwd  %pycat  %pylab  %qtconsole  %quickref  %recall  %rehashx  %reload_ext  %rep  %rerun  %reset  %reset_selective  %rm  %rmdir  %run  %save  %sc  %store  %sx  %system  %tb  %time  %timeit  %unalias  %unload_ext  %who  %who_ls  %whos  %xdel  %xmode\n",
        "\n",
        "Available cell magics:\n",
        "%%!  %%HTML  %%SVG  %%bash  %%capture  %%debug  %%file  %%html  %%javascript  %%latex  %%perl  %%prun  %%pypy  %%python  %%python2  %%python3  %%ruby  %%script  %%sh  %%svg  %%sx  %%system  %%time  %%timeit  %%writefile\n",
        "\n",
        "Automagic is ON, % prefix IS NOT needed for line magics."
       ]
      }
     ],
     "prompt_number": 1
    },
    {
     "cell_type": "heading",
     "level": 2,
     "metadata": {},
     "source": [
      "Run Linux Commands"
     ]
    },
    {
     "cell_type": "code",
     "collapsed": false,
     "input": [
      "%ls -al"
     ],
     "language": "python",
     "metadata": {},
     "outputs": [
      {
       "output_type": "stream",
       "stream": "stdout",
       "text": [
        "total 184\r\n",
        "drwxr-xr-x 4 ty users   4096 Feb 10 14:15 \u001b[0m\u001b[01;34m.\u001b[0m/\r\n",
        "drwxr-xr-x 5 ty users   4096 Feb 10 18:04 \u001b[01;34m..\u001b[0m/\r\n",
        "-rw-r--r-- 1 ty users  12893 Feb  6 06:00 \u001b[00mAdditional_IPython_Tips-test-copy.ipynb\u001b[0m\r\n",
        "-rw-r--r-- 1 ty users  11953 Feb 10 18:36 \u001b[00mbasic-steps.ipynb\u001b[0m\r\n",
        "drwxr-xr-x 2 ty users   4096 Feb 10 14:17 \u001b[01;34m.ipynb_checkpoints\u001b[0m/\r\n",
        "-rw-r--r-- 1 ty users   4212 Feb 10 15:12 \u001b[00moctave-magic.ipynb\u001b[0m\r\n",
        "drwxr-xr-x 2 ty users   4096 Feb  9 13:15 \u001b[01;34morig-ipynb\u001b[0m/\r\n",
        "-rw-r--r-- 1 ty users   7222 Feb 10 15:10 \u001b[00mother-languages.ipynb\u001b[0m\r\n",
        "-rw-r--r-- 1 ty users 121502 Feb 10 15:19 \u001b[00mrich-output-build.ipynb\u001b[0m\r\n",
        "-rw-r--r-- 1 ty users   2959 Feb 10 15:12 \u001b[00mtrapezoid-rule-build.ipynb\u001b[0m\r\n"
       ]
      }
     ],
     "prompt_number": 2
    },
    {
     "cell_type": "code",
     "collapsed": false,
     "input": [
      "pwd"
     ],
     "language": "python",
     "metadata": {},
     "outputs": [
      {
       "metadata": {},
       "output_type": "pyout",
       "prompt_number": 3,
       "text": [
        "u'/home/ty/Documents/tvpdg-presentation/notebooks'"
       ]
      }
     ],
     "prompt_number": 3
    },
    {
     "cell_type": "markdown",
     "metadata": {},
     "source": [
      "Define variables and execute a bash command with the variable"
     ]
    },
    {
     "cell_type": "code",
     "collapsed": false,
     "input": [
      "message = \"Brought to you by IPython.\"\n",
      "!echo $message"
     ],
     "language": "python",
     "metadata": {},
     "outputs": [
      {
       "output_type": "stream",
       "stream": "stdout",
       "text": [
        "Brought to you by IPython.\r\n"
       ]
      }
     ],
     "prompt_number": 4
    },
    {
     "cell_type": "markdown",
     "metadata": {},
     "source": [
      "You can paste blocks of code from python interpreter and run"
     ]
    },
    {
     "cell_type": "code",
     "collapsed": false,
     "input": [
      ">>> the_world_is_flat = 1\n",
      ">>> if the_world_is_flat:\n",
      "...    print \"Be careful not to fall off!\"\n"
     ],
     "language": "python",
     "metadata": {},
     "outputs": [
      {
       "output_type": "stream",
       "stream": "stdout",
       "text": [
        "Be careful not to fall off!\n"
       ]
      }
     ],
     "prompt_number": 5
    },
    {
     "cell_type": "markdown",
     "metadata": {},
     "source": [
      "Python runs with Non-blocking output of kernel operations asyncronously"
     ]
    },
    {
     "cell_type": "code",
     "collapsed": false,
     "input": [
      "import time, sys\n",
      "for i in range(10):\n",
      "    print i,\n",
      "    time.sleep(0.75)"
     ],
     "language": "python",
     "metadata": {},
     "outputs": [
      {
       "output_type": "stream",
       "stream": "stdout",
       "text": [
        "0 "
       ]
      },
      {
       "output_type": "stream",
       "stream": "stdout",
       "text": [
        "1 "
       ]
      },
      {
       "output_type": "stream",
       "stream": "stdout",
       "text": [
        "2 "
       ]
      },
      {
       "output_type": "stream",
       "stream": "stdout",
       "text": [
        "3 "
       ]
      },
      {
       "output_type": "stream",
       "stream": "stdout",
       "text": [
        "4 "
       ]
      },
      {
       "output_type": "stream",
       "stream": "stdout",
       "text": [
        "5 "
       ]
      },
      {
       "output_type": "stream",
       "stream": "stdout",
       "text": [
        "6 "
       ]
      },
      {
       "output_type": "stream",
       "stream": "stdout",
       "text": [
        "7 "
       ]
      },
      {
       "output_type": "stream",
       "stream": "stdout",
       "text": [
        "8 "
       ]
      },
      {
       "output_type": "stream",
       "stream": "stdout",
       "text": [
        "9\n"
       ]
      }
     ],
     "prompt_number": 6
    },
    {
     "cell_type": "code",
     "collapsed": false,
     "input": [
      "ls -al"
     ],
     "language": "python",
     "metadata": {},
     "outputs": [
      {
       "output_type": "stream",
       "stream": "stdout",
       "text": [
        "total 188\r\n",
        "drwxr-xr-x 4 ty users   4096 Feb 10 14:15 \u001b[0m\u001b[01;34m.\u001b[0m/\r\n",
        "drwxr-xr-x 5 ty users   4096 Feb 10 18:04 \u001b[01;34m..\u001b[0m/\r\n",
        "-rw-r--r-- 1 ty users  12893 Feb  6 06:00 \u001b[00mAdditional_IPython_Tips-test-copy.ipynb\u001b[0m\r\n",
        "-rw-r--r-- 1 ty users  13467 Feb 10 18:38 \u001b[00mbasic-steps.ipynb\u001b[0m\r\n",
        "drwxr-xr-x 2 ty users   4096 Feb 10 14:17 \u001b[01;34m.ipynb_checkpoints\u001b[0m/\r\n",
        "-rw-r--r-- 1 ty users   4212 Feb 10 15:12 \u001b[00moctave-magic.ipynb\u001b[0m\r\n",
        "drwxr-xr-x 2 ty users   4096 Feb  9 13:15 \u001b[01;34morig-ipynb\u001b[0m/\r\n",
        "-rw-r--r-- 1 ty users   7222 Feb 10 15:10 \u001b[00mother-languages.ipynb\u001b[0m\r\n",
        "-rw-r--r-- 1 ty users 121502 Feb 10 15:19 \u001b[00mrich-output-build.ipynb\u001b[0m\r\n",
        "-rw-r--r-- 1 ty users   2959 Feb 10 15:12 \u001b[00mtrapezoid-rule-build.ipynb\u001b[0m\r\n"
       ]
      }
     ],
     "prompt_number": 7
    },
    {
     "cell_type": "heading",
     "level": 2,
     "metadata": {},
     "source": [
      "Clean Crash and Restart"
     ]
    },
    {
     "cell_type": "markdown",
     "metadata": {},
     "source": [
      "Force a seqfault. See that it is captured and you don't lose your notebook."
     ]
    },
    {
     "cell_type": "code",
     "collapsed": false,
     "input": [
      "from ctypes import CDLL\n",
      "# This will crash a linux system, not Windoze or Mac\n",
      "libc = CDLL(\"libc.so.6\")\n",
      "libc.time(-1)  # Crash"
     ],
     "language": "python",
     "metadata": {},
     "outputs": []
    },
    {
     "cell_type": "code",
     "collapsed": false,
     "input": [],
     "language": "python",
     "metadata": {},
     "outputs": []
    }
   ],
   "metadata": {}
  }
 ]
}