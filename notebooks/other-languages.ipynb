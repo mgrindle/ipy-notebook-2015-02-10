{
 "metadata": {
  "name": "",
  "signature": "sha256:19e8808e1256b7467c196a34c1eb9847edbd23bcca875b9801d3d0a02658d1a9"
 },
 "nbformat": 3,
 "nbformat_minor": 0,
 "worksheets": [
  {
   "cells": [
    {
     "cell_type": "heading",
     "level": 1,
     "metadata": {},
     "source": [
      "Other Languages that Run under IPython"
     ]
    },
    {
     "cell_type": "heading",
     "level": 2,
     "metadata": {},
     "source": [
      "\n",
      "Magics for running code under other interpreters"
     ]
    },
    {
     "cell_type": "markdown",
     "metadata": {},
     "source": [
      "IPython has a %%script cell magic, which lets you run a cell in a subprocess of any interpreter on your system, such as: bash, ruby, perl, zsh, R, etc.\n",
      "\n",
      "It can even be a script of your own, which expects input on stdin.\n",
      "\n",
      "To use it, simply pass a path or shell command to the program you want to run on the %%script line, and the rest of the cell will be run by that script, and stdout/err from the subprocess are captured and displayed.\n"
     ]
    },
    {
     "cell_type": "code",
     "collapsed": false,
     "input": [
      "%%script python\n",
      "import sys\n",
      "print 'hello from Python %s' % sys.version"
     ],
     "language": "python",
     "metadata": {},
     "outputs": []
    },
    {
     "cell_type": "code",
     "collapsed": false,
     "input": [
      "%%script python3\n",
      "import sys\n",
      "print('hello from Python: %s' % sys.version)"
     ],
     "language": "python",
     "metadata": {},
     "outputs": []
    },
    {
     "cell_type": "markdown",
     "metadata": {},
     "source": [
      "IPython also creates aliases for a few common interpreters, such as bash, ruby, perl, etc.\n",
      "\n",
      "These are all equivalent to %%script <name>\n"
     ]
    },
    {
     "cell_type": "code",
     "collapsed": false,
     "input": [
      "%%ruby\n",
      "puts \"Hello from Ruby #{RUBY_VERSION}\""
     ],
     "language": "python",
     "metadata": {},
     "outputs": []
    },
    {
     "cell_type": "code",
     "collapsed": false,
     "input": [
      "%%bash\n",
      "echo \"hello from $BASH\""
     ],
     "language": "python",
     "metadata": {},
     "outputs": []
    },
    {
     "cell_type": "code",
     "collapsed": false,
     "input": [
      "!ping -c 5 www.google.com"
     ],
     "language": "python",
     "metadata": {},
     "outputs": []
    },
    {
     "cell_type": "heading",
     "level": 2,
     "metadata": {},
     "source": [
      "Switch Gears a Little"
     ]
    },
    {
     "cell_type": "heading",
     "level": 2,
     "metadata": {},
     "source": [
      "Plotting with Matplotlib"
     ]
    },
    {
     "cell_type": "markdown",
     "metadata": {},
     "source": [
      "IPython works with the Matplotlib plotting library, which integrates Matplotlib with IPython's display system and event loop handling."
     ]
    },
    {
     "cell_type": "heading",
     "level": 3,
     "metadata": {},
     "source": [
      "matplotlib mode"
     ]
    },
    {
     "cell_type": "markdown",
     "metadata": {},
     "source": [
      "To make plots using Matplotlib, you must first enable IPython's matplotlib mode.\n",
      "\n",
      "To do this, run the %matplotlib magic command to enable plotting in the current Notebook.\n",
      "\n",
      "This magic takes an optional argument that specifies which Matplotlib backend should be used. Most of the time, in the Notebook, you will want to use the inline backend, which will embed plots inside the Notebook:"
     ]
    },
    {
     "cell_type": "code",
     "collapsed": false,
     "input": [
      "%matplotlib inline"
     ],
     "language": "python",
     "metadata": {},
     "outputs": []
    },
    {
     "cell_type": "markdown",
     "metadata": {},
     "source": [
      "You can also use Matplotlib GUI backends in the Notebook, such as the Qt backend (%matplotlib qt). This will use Matplotlib's interactive Qt UI in a floating window to the side of your browser. Of course, this only works if your browser is running on the same system as the Notebook Server. You can always call the display function to paste figures into the Notebook document."
     ]
    },
    {
     "cell_type": "heading",
     "level": 2,
     "metadata": {},
     "source": [
      "Making a simple plot"
     ]
    },
    {
     "cell_type": "markdown",
     "metadata": {},
     "source": [
      "With matplotlib enabled, plotting should just work."
     ]
    },
    {
     "cell_type": "code",
     "collapsed": false,
     "input": [
      "import matplotlib.pyplot as plt\n",
      "import numpy as np"
     ],
     "language": "python",
     "metadata": {},
     "outputs": []
    },
    {
     "cell_type": "code",
     "collapsed": false,
     "input": [
      "x = np.linspace(0, 3*np.pi, 500)\n",
      "plt.plot(x, np.sin(x**2))\n",
      "plt.title('A simple chirp');"
     ],
     "language": "python",
     "metadata": {},
     "outputs": []
    },
    {
     "cell_type": "markdown",
     "metadata": {},
     "source": [
      "These images can be resized by dragging the handle in the lower right corner. Double clicking will return them to their original size.\n",
      "\n",
      "One thing to be aware of is that by default, the Figure object is cleared at the end of each cell, so you will need to issue all plotting commands for a single figure in a single cell."
     ]
    },
    {
     "cell_type": "heading",
     "level": 3,
     "metadata": {},
     "source": [
      "Now lets try with QT Backend"
     ]
    },
    {
     "cell_type": "markdown",
     "metadata": {},
     "source": [
      "Be sure you have matplotlib-qt Installed. On openSUSE it's called: python-matplotlib-qt4"
     ]
    },
    {
     "cell_type": "code",
     "collapsed": false,
     "input": [
      "%matplotlib qt"
     ],
     "language": "python",
     "metadata": {},
     "outputs": []
    },
    {
     "cell_type": "code",
     "collapsed": false,
     "input": [
      "x = np.linspace(0, 3*np.pi, 500)\n",
      "plt.plot(x, np.sin(x**2))\n",
      "plt.title('A simple chirp');"
     ],
     "language": "python",
     "metadata": {},
     "outputs": []
    },
    {
     "cell_type": "heading",
     "level": 2,
     "metadata": {},
     "source": [
      "Loading Matplotlib demos with %load"
     ]
    },
    {
     "cell_type": "markdown",
     "metadata": {},
     "source": [
      "IPython's %load magic can be used to load any Matplotlib demo by its URL:"
     ]
    },
    {
     "cell_type": "code",
     "collapsed": false,
     "input": [
      "%matplotlib inline"
     ],
     "language": "python",
     "metadata": {},
     "outputs": []
    },
    {
     "cell_type": "code",
     "collapsed": false,
     "input": [
      "%load http://matplotlib.sourceforge.net/mpl_examples/pylab_examples/integral_demo.py"
     ],
     "language": "python",
     "metadata": {},
     "outputs": []
    },
    {
     "cell_type": "code",
     "collapsed": false,
     "input": [
      "#!/usr/bin/env python\n",
      "\n",
      "# implement the example graphs/integral from pyx\n",
      "from pylab import *\n",
      "from matplotlib.patches import Polygon\n",
      "\n",
      "def func(x):\n",
      "    return (x-3)*(x-5)*(x-7)+85\n",
      "\n",
      "ax = subplot(111)\n",
      "\n",
      "a, b = 2, 9 # integral area\n",
      "x = arange(0, 10, 0.01)\n",
      "y = func(x)\n",
      "plot(x, y, linewidth=1)\n",
      "\n",
      "# make the shaded region\n",
      "ix = arange(a, b, 0.01)\n",
      "iy = func(ix)\n",
      "verts = [(a,0)] + list(zip(ix,iy)) + [(b,0)]\n",
      "poly = Polygon(verts, facecolor='0.8', edgecolor='k')\n",
      "ax.add_patch(poly)\n",
      "\n",
      "text(0.5 * (a + b), 30,\n",
      "     r\"$\\int_a^b f(x)\\mathrm{d}x$\", horizontalalignment='center',\n",
      "     fontsize=20)\n",
      "\n",
      "axis([0,10, 0, 180])\n",
      "figtext(0.9, 0.05, 'x')\n",
      "figtext(0.1, 0.9, 'y')\n",
      "ax.set_xticks((a,b))\n",
      "ax.set_xticklabels(('a','b'))\n",
      "ax.set_yticks([])\n",
      "show()\n"
     ],
     "language": "python",
     "metadata": {},
     "outputs": []
    },
    {
     "cell_type": "code",
     "collapsed": false,
     "input": [],
     "language": "python",
     "metadata": {},
     "outputs": []
    }
   ],
   "metadata": {}
  }
 ]
}